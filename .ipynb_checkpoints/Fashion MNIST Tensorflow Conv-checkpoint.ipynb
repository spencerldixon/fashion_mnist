{
 "cells": [
  {
   "cell_type": "code",
   "execution_count": 35,
   "metadata": {},
   "outputs": [
    {
     "name": "stdout",
     "output_type": "stream",
     "text": [
      "1.9.0\n"
     ]
    }
   ],
   "source": [
    "import numpy as np\n",
    "import tensorflow as tf\n",
    "import matplotlib.pyplot as plt\n",
    "from tensorflow.examples.tutorials.mnist import input_data\n",
    "\n",
    "%matplotlib inline\n",
    "\n",
    "print(tf.__version__)"
   ]
  },
  {
   "cell_type": "code",
   "execution_count": 36,
   "metadata": {},
   "outputs": [
    {
     "name": "stdout",
     "output_type": "stream",
     "text": [
      "Extracting data/fashion/train-images-idx3-ubyte.gz\n",
      "Extracting data/fashion/train-labels-idx1-ubyte.gz\n",
      "Extracting data/fashion/t10k-images-idx3-ubyte.gz\n",
      "Extracting data/fashion/t10k-labels-idx1-ubyte.gz\n"
     ]
    }
   ],
   "source": [
    "data = input_data.read_data_sets('data/fashion',one_hot=True)"
   ]
  },
  {
   "cell_type": "code",
   "execution_count": 37,
   "metadata": {},
   "outputs": [
    {
     "data": {
      "text/plain": [
       "array([0., 0., 0., 0., 1., 0., 0., 0., 0., 0.])"
      ]
     },
     "execution_count": 37,
     "metadata": {},
     "output_type": "execute_result"
    }
   ],
   "source": [
    "data.train.labels[0]"
   ]
  },
  {
   "cell_type": "markdown",
   "metadata": {},
   "source": [
    "# Classification Helper"
   ]
  },
  {
   "cell_type": "code",
   "execution_count": 38,
   "metadata": {},
   "outputs": [],
   "source": [
    "classification_dict = {\n",
    "    0: 'T-shirt/top',\n",
    "    1: 'Trouser',\n",
    "    2: 'Pullover',\n",
    "    3: 'Dress',\n",
    "    4: 'Coat',\n",
    "    5: 'Sandal',\n",
    "    6: 'Shirt',\n",
    "    7: 'Sneaker',\n",
    "    8: 'Bag',\n",
    "    9: 'Ankle boot'\n",
    "}"
   ]
  },
  {
   "cell_type": "markdown",
   "metadata": {},
   "source": [
    "# Plot Sample"
   ]
  },
  {
   "cell_type": "code",
   "execution_count": 39,
   "metadata": {},
   "outputs": [
    {
     "name": "stdout",
     "output_type": "stream",
     "text": [
      "This is a Coat\n"
     ]
    },
    {
     "data": {
      "image/png": "[encoded data removed]",
      "text/plain": [
       "<Figure size 432x288 with 1 Axes>"
      ]
     },
     "metadata": {},
     "output_type": "display_data"
    }
   ],
   "source": [
    "index = 0\n",
    "image = data.train.images[index].reshape(28,28)\n",
    "label = data.train.labels[index]\n",
    "\n",
    "plt.imshow(image)\n",
    "\n",
    "print(\"This is a {}\".format(classification_dict[label.argmax()]))"
   ]
  },
  {
   "cell_type": "markdown",
   "metadata": {},
   "source": [
    "# Formatting Data"
   ]
  },
  {
   "cell_type": "code",
   "execution_count": 40,
   "metadata": {},
   "outputs": [
    {
     "name": "stdout",
     "output_type": "stream",
     "text": [
      "Train shape:  (55000, 28, 28, 1)\n",
      "Test shape:  (10000, 28, 28, 1)\n",
      "Train labels:  (55000, 10)\n",
      "Test labels:  (10000, 10)\n"
     ]
    }
   ],
   "source": [
    "x_train = data.train.images.reshape(-1, 28, 28, 1)\n",
    "x_test  = data.test.images.reshape(-1,28,28,1)\n",
    "\n",
    "y_train = data.train.labels\n",
    "y_test  = data.test.labels\n",
    "\n",
    "print('Train shape: ', x_train.shape)\n",
    "print('Test shape: ', x_test.shape)\n",
    "\n",
    "print('Train labels: ', y_train.shape)\n",
    "print('Test labels: ', y_test.shape)"
   ]
  },
  {
   "cell_type": "markdown",
   "metadata": {},
   "source": [
    "# Model / Forward Prop\n",
    "\n",
    "- Conv1\n",
    "- MaxPool1\n",
    "- Conv2\n",
    "- MaxPool2\n",
    "- Flatten\n",
    "- Dense1\n",
    "- DenseOut"
   ]
  },
  {
   "cell_type": "code",
   "execution_count": 41,
   "metadata": {},
   "outputs": [],
   "source": [
    "# This line ensures that the graph is reset every time you run this cell\n",
    "tf.reset_default_graph()\n",
    "\n",
    "x = tf.placeholder(tf.float32, [None, 28,28,1]) # Taken from input shape, this represents our image input\n",
    "y = tf.placeholder(tf.float32, [None, 10]) # Taken from label shape, this represents our one hot encoded label\n",
    "\n",
    "weights = {\n",
    "    'conv1': tf.get_variable('W0', shape=(3,3,1,32), initializer=tf.contrib.layers.xavier_initializer()), \n",
    "    'conv2': tf.get_variable('W1', shape=(3,3,32,64), initializer=tf.contrib.layers.xavier_initializer()), \n",
    "    'conv3': tf.get_variable('W2', shape=(3,3,64,128), initializer=tf.contrib.layers.xavier_initializer()), \n",
    "    'dense1': tf.get_variable('W3', shape=(4*4*128,128), initializer=tf.contrib.layers.xavier_initializer()), \n",
    "    'dense2': tf.get_variable('W4', shape=(128,10), initializer=tf.contrib.layers.xavier_initializer()), \n",
    "}\n",
    "\n",
    "biases = {\n",
    "    'conv1': tf.get_variable('B0', shape=(32), initializer=tf.contrib.layers.xavier_initializer()),\n",
    "    'conv2': tf.get_variable('B1', shape=(64), initializer=tf.contrib.layers.xavier_initializer()),\n",
    "    'conv3': tf.get_variable('B2', shape=(128), initializer=tf.contrib.layers.xavier_initializer()),\n",
    "    'dense1': tf.get_variable('B3', shape=(128), initializer=tf.contrib.layers.xavier_initializer()),\n",
    "    'dense2': tf.get_variable('B4', shape=(10), initializer=tf.contrib.layers.xavier_initializer()),\n",
    "}\n",
    "\n",
    "def conv_layer(x, W, b):\n",
    "    # Convolves x with W, adds b, and activates\n",
    "    conv = tf.nn.conv2d(input=x, filter=W, strides=[1, 1, 1, 1], padding=\"SAME\")\n",
    "    conv = tf.nn.bias_add(conv, b)\n",
    "    return tf.nn.relu(conv)\n",
    "\n",
    "def max_pooling(x):\n",
    "    # Runs max pooling on x, reducing its size by half\n",
    "    return tf.layers.max_pooling2d(x, pool_size=2, strides=2, padding=\"SAME\")\n",
    "\n",
    "def dense_layer(x, W, b):\n",
    "    dense = tf.add(tf.matmul(x, W), b)\n",
    "    return tf.nn.relu(dense)\n",
    "\n",
    "def forward_pass(x, weights, biases):     \n",
    "    c1 = conv_layer(x, weights['conv1'], biases['conv1'])\n",
    "    c1 = max_pooling(c1) # Chooses the max value from a 2*2 matrix window and outputs a 14*14 matrix (28x28/2 = 14x14)\n",
    "    \n",
    "    print(tf.shape(c1))\n",
    "    \n",
    "    c2 = conv_layer(c1, weights['conv2'], biases['conv2'])\n",
    "    c2 = max_pooling(c2) # Reduces image again by half (14x14/2 = 7x7)\n",
    "    \n",
    "    print(tf.shape(c2))\n",
    "                                \n",
    "    c3 = conv_layer(c2, weights['conv3'], biases['conv3'])\n",
    "    c3 = max_pooling(c3) # Reduces image again by half (tf rounds up with padding same, so 7/2 = ceil(3.5) = 4) (7x7/2 = 4x4)\n",
    "            \n",
    "    flattened = tf.reshape(c3, [-1, 4*4*128]) # 2048\n",
    "    \n",
    "    dense1 = dense_layer(flattened, weights['dense1'], biases['dense1'])\n",
    "\n",
    "    # Dense without activation\n",
    "    predictions = tf.add(tf.matmul(dense1, weights['dense2']), biases['dense2'])\n",
    "    \n",
    "    return predictions"
   ]
  },
  {
   "cell_type": "markdown",
   "metadata": {},
   "source": [
    "## Backprop\n",
    "\n",
    "Now that we've defined our forward pass, there are 4 elements in our training...\n",
    "\n",
    "1. Get predictions by doing a forward pass\n",
    "2. Define loss (difference between labels and predictions)\n",
    "3. Define optimizer\n",
    "4. Use optimizer to minimize loss"
   ]
  },
  {
   "cell_type": "code",
   "execution_count": 42,
   "metadata": {},
   "outputs": [
    {
     "name": "stdout",
     "output_type": "stream",
     "text": [
      "Tensor(\"Shape:0\", shape=(4,), dtype=int32)\n",
      "Tensor(\"Shape_1:0\", shape=(4,), dtype=int32)\n"
     ]
    }
   ],
   "source": [
    "# Do a forward pass of our training data\n",
    "y_predictions = forward_pass(x, weights, biases) # x = placeholder for image\n",
    "\n",
    "# Define our loss (difference between labels and predictions)\n",
    "loss = tf.reduce_mean(tf.nn.softmax_cross_entropy_with_logits(logits=y_predictions, labels=y)) # y = placeholder for true labels\n",
    "\n",
    "# Define how we're going to optimise our loss\n",
    "optimizer = tf.train.AdamOptimizer(learning_rate=0.001)\n",
    "\n",
    "# Define our single pass of forward and back prop (user optimiser to minimise loss)\n",
    "train = optimizer.minimize(loss)"
   ]
  },
  {
   "cell_type": "code",
   "execution_count": 43,
   "metadata": {},
   "outputs": [],
   "source": [
    "# Make some nodes that tell us if we got it right when computed\n",
    "correct_prediction = tf.equal(tf.argmax(y_predictions, 1), tf.argmax(y, 1))\n",
    "\n",
    "# Node for accuracy across all examples\n",
    "accuracy = tf.reduce_mean(tf.cast(correct_prediction, tf.float32))"
   ]
  },
  {
   "cell_type": "code",
   "execution_count": 44,
   "metadata": {},
   "outputs": [
    {
     "name": "stdout",
     "output_type": "stream",
     "text": [
      "STEP: 0 TRAIN LOSS: 0.3385242223739624 TRAIN ACCURACY: 0.8999999761581421%\n",
      "STEP: 0 TEST LOSS: 0.3754064738750458 TEST ACCURACY: 0.8640999794006348%\n",
      "STEP: 1 TRAIN LOSS: 0.25302237272262573 TRAIN ACCURACY: 0.8999999761581421%\n",
      "STEP: 1 TEST LOSS: 0.31997308135032654 TEST ACCURACY: 0.888700008392334%\n",
      "STEP: 2 TRAIN LOSS: 0.2127353996038437 TRAIN ACCURACY: 0.9399999976158142%\n",
      "STEP: 2 TEST LOSS: 0.2972147464752197 TEST ACCURACY: 0.8934999704360962%\n",
      "STEP: 3 TRAIN LOSS: 0.20761917531490326 TRAIN ACCURACY: 0.9399999976158142%\n",
      "STEP: 3 TEST LOSS: 0.29925981163978577 TEST ACCURACY: 0.8902000188827515%\n",
      "STEP: 4 TRAIN LOSS: 0.16457563638687134 TRAIN ACCURACY: 0.9399999976158142%\n",
      "STEP: 4 TEST LOSS: 0.28317636251449585 TEST ACCURACY: 0.8984000086784363%\n",
      "STEP: 5 TRAIN LOSS: 0.12959697842597961 TRAIN ACCURACY: 0.9599999785423279%\n",
      "STEP: 5 TEST LOSS: 0.2921101748943329 TEST ACCURACY: 0.8953999876976013%\n",
      "STEP: 6 TRAIN LOSS: 0.09738635271787643 TRAIN ACCURACY: 0.9599999785423279%\n",
      "STEP: 6 TEST LOSS: 0.2946648895740509 TEST ACCURACY: 0.8977000117301941%\n",
      "STEP: 7 TRAIN LOSS: 0.08093955367803574 TRAIN ACCURACY: 0.9800000190734863%\n",
      "STEP: 7 TEST LOSS: 0.3200048804283142 TEST ACCURACY: 0.897599995136261%\n",
      "STEP: 8 TRAIN LOSS: 0.06980971992015839 TRAIN ACCURACY: 0.9800000190734863%\n",
      "STEP: 8 TEST LOSS: 0.32668423652648926 TEST ACCURACY: 0.9002000093460083%\n",
      "STEP: 9 TRAIN LOSS: 0.050674449652433395 TRAIN ACCURACY: 1.0%\n",
      "STEP: 9 TEST LOSS: 0.32391154766082764 TEST ACCURACY: 0.9039000272750854%\n",
      "STEP: 10 TRAIN LOSS: 0.0880495235323906 TRAIN ACCURACY: 0.9599999785423279%\n",
      "STEP: 10 TEST LOSS: 0.36805030703544617 TEST ACCURACY: 0.9000999927520752%\n",
      "STEP: 11 TRAIN LOSS: 0.10275895148515701 TRAIN ACCURACY: 0.9599999785423279%\n",
      "STEP: 11 TEST LOSS: 0.386522501707077 TEST ACCURACY: 0.8986999988555908%\n",
      "STEP: 12 TRAIN LOSS: 0.12416506558656693 TRAIN ACCURACY: 0.9800000190734863%\n",
      "STEP: 12 TEST LOSS: 0.40839508175849915 TEST ACCURACY: 0.8984000086784363%\n",
      "STEP: 13 TRAIN LOSS: 0.04859881475567818 TRAIN ACCURACY: 0.9599999785423279%\n",
      "STEP: 13 TEST LOSS: 0.37308138608932495 TEST ACCURACY: 0.9024999737739563%\n",
      "STEP: 14 TRAIN LOSS: 0.08834818750619888 TRAIN ACCURACY: 0.9800000190734863%\n",
      "STEP: 14 TEST LOSS: 0.414630651473999 TEST ACCURACY: 0.9060999751091003%\n",
      "STEP: 15 TRAIN LOSS: 0.10339222848415375 TRAIN ACCURACY: 0.9599999785423279%\n",
      "STEP: 15 TEST LOSS: 0.4762161076068878 TEST ACCURACY: 0.9024999737739563%\n",
      "STEP: 16 TRAIN LOSS: 0.05521358549594879 TRAIN ACCURACY: 0.9800000190734863%\n",
      "STEP: 16 TEST LOSS: 0.4542294442653656 TEST ACCURACY: 0.9070000052452087%\n",
      "STEP: 17 TRAIN LOSS: 0.030438557267189026 TRAIN ACCURACY: 0.9800000190734863%\n",
      "STEP: 17 TEST LOSS: 0.5016361474990845 TEST ACCURACY: 0.9067000150680542%\n",
      "STEP: 18 TRAIN LOSS: 0.017189795151352882 TRAIN ACCURACY: 1.0%\n",
      "STEP: 18 TEST LOSS: 0.49987784028053284 TEST ACCURACY: 0.9074000120162964%\n",
      "STEP: 19 TRAIN LOSS: 0.08859081566333771 TRAIN ACCURACY: 0.9599999785423279%\n",
      "STEP: 19 TEST LOSS: 0.5678989291191101 TEST ACCURACY: 0.9053000211715698%\n",
      "STEP: 20 TRAIN LOSS: 0.011320594698190689 TRAIN ACCURACY: 1.0%\n",
      "STEP: 20 TEST LOSS: 0.548831045627594 TEST ACCURACY: 0.9097999930381775%\n",
      "STEP: 21 TRAIN LOSS: 0.01958778314292431 TRAIN ACCURACY: 1.0%\n",
      "STEP: 21 TEST LOSS: 0.5880346894264221 TEST ACCURACY: 0.9021999835968018%\n",
      "STEP: 22 TRAIN LOSS: 0.030406951904296875 TRAIN ACCURACY: 0.9800000190734863%\n",
      "STEP: 22 TEST LOSS: 0.6747885942459106 TEST ACCURACY: 0.8998000025749207%\n",
      "STEP: 23 TRAIN LOSS: 0.015666551887989044 TRAIN ACCURACY: 1.0%\n",
      "STEP: 23 TEST LOSS: 0.6571803689002991 TEST ACCURACY: 0.9035000205039978%\n",
      "STEP: 24 TRAIN LOSS: 0.049036212265491486 TRAIN ACCURACY: 0.9800000190734863%\n",
      "STEP: 24 TEST LOSS: 0.6608337759971619 TEST ACCURACY: 0.9006999731063843%\n",
      "STEP: 25 TRAIN LOSS: 0.021760225296020508 TRAIN ACCURACY: 1.0%\n",
      "STEP: 25 TEST LOSS: 0.6415741443634033 TEST ACCURACY: 0.9053000211715698%\n",
      "STEP: 26 TRAIN LOSS: 0.02494708076119423 TRAIN ACCURACY: 0.9800000190734863%\n",
      "STEP: 26 TEST LOSS: 0.6615514755249023 TEST ACCURACY: 0.9088000059127808%\n",
      "STEP: 27 TRAIN LOSS: 0.006033990532159805 TRAIN ACCURACY: 1.0%\n",
      "STEP: 27 TEST LOSS: 0.7025516629219055 TEST ACCURACY: 0.9032999873161316%\n",
      "STEP: 28 TRAIN LOSS: 0.018327219411730766 TRAIN ACCURACY: 1.0%\n",
      "STEP: 28 TEST LOSS: 0.7354929447174072 TEST ACCURACY: 0.901199996471405%\n",
      "STEP: 29 TRAIN LOSS: 0.008299482055008411 TRAIN ACCURACY: 1.0%\n",
      "STEP: 29 TEST LOSS: 0.8189507722854614 TEST ACCURACY: 0.8980000019073486%\n",
      "STEP: 30 TRAIN LOSS: 0.006612511817365885 TRAIN ACCURACY: 1.0%\n",
      "STEP: 30 TEST LOSS: 0.741489052772522 TEST ACCURACY: 0.9067000150680542%\n",
      "STEP: 31 TRAIN LOSS: 0.0039010411128401756 TRAIN ACCURACY: 1.0%\n",
      "STEP: 31 TEST LOSS: 0.6981410384178162 TEST ACCURACY: 0.9132000207901001%\n",
      "STEP: 32 TRAIN LOSS: 0.015761978924274445 TRAIN ACCURACY: 1.0%\n",
      "STEP: 32 TEST LOSS: 0.7374812364578247 TEST ACCURACY: 0.9050999879837036%\n",
      "STEP: 33 TRAIN LOSS: 0.0060193175449967384 TRAIN ACCURACY: 1.0%\n",
      "STEP: 33 TEST LOSS: 0.7866281270980835 TEST ACCURACY: 0.9085000157356262%\n",
      "STEP: 34 TRAIN LOSS: 0.006636073812842369 TRAIN ACCURACY: 1.0%\n",
      "STEP: 34 TEST LOSS: 0.7451367378234863 TEST ACCURACY: 0.9047999978065491%\n",
      "STEP: 35 TRAIN LOSS: 0.004092552699148655 TRAIN ACCURACY: 1.0%\n",
      "STEP: 35 TEST LOSS: 0.781203031539917 TEST ACCURACY: 0.9059000015258789%\n",
      "STEP: 36 TRAIN LOSS: 0.00217776233330369 TRAIN ACCURACY: 1.0%\n",
      "STEP: 36 TEST LOSS: 0.7492321133613586 TEST ACCURACY: 0.9096999764442444%\n",
      "STEP: 37 TRAIN LOSS: 0.015973780304193497 TRAIN ACCURACY: 1.0%\n",
      "STEP: 37 TEST LOSS: 0.7432599067687988 TEST ACCURACY: 0.9101999998092651%\n",
      "STEP: 38 TRAIN LOSS: 0.06314793229103088 TRAIN ACCURACY: 0.9800000190734863%\n",
      "STEP: 38 TEST LOSS: 0.772467851638794 TEST ACCURACY: 0.9071000218391418%\n",
      "STEP: 39 TRAIN LOSS: 0.01275462657213211 TRAIN ACCURACY: 1.0%\n",
      "STEP: 39 TEST LOSS: 0.804940938949585 TEST ACCURACY: 0.9017000198364258%\n",
      "STEP: 40 TRAIN LOSS: 0.0019764313474297523 TRAIN ACCURACY: 1.0%\n",
      "STEP: 40 TEST LOSS: 0.7855941653251648 TEST ACCURACY: 0.9060999751091003%\n",
      "STEP: 41 TRAIN LOSS: 0.0019346482586115599 TRAIN ACCURACY: 1.0%\n",
      "STEP: 41 TEST LOSS: 0.79131680727005 TEST ACCURACY: 0.9074000120162964%\n",
      "STEP: 42 TRAIN LOSS: 0.004225823096930981 TRAIN ACCURACY: 1.0%\n",
      "STEP: 42 TEST LOSS: 0.8411486148834229 TEST ACCURACY: 0.9108999967575073%\n",
      "STEP: 43 TRAIN LOSS: 0.0014966288581490517 TRAIN ACCURACY: 1.0%\n",
      "STEP: 43 TEST LOSS: 0.8631783127784729 TEST ACCURACY: 0.90420001745224%\n",
      "STEP: 44 TRAIN LOSS: 0.0021852650679647923 TRAIN ACCURACY: 1.0%\n",
      "STEP: 44 TEST LOSS: 0.7299140095710754 TEST ACCURACY: 0.9124000072479248%\n",
      "STEP: 45 TRAIN LOSS: 0.0018612503772601485 TRAIN ACCURACY: 1.0%\n",
      "STEP: 45 TEST LOSS: 0.7896764278411865 TEST ACCURACY: 0.9136000275611877%\n",
      "STEP: 46 TRAIN LOSS: 0.0023135333321988583 TRAIN ACCURACY: 1.0%\n",
      "STEP: 46 TEST LOSS: 0.797427237033844 TEST ACCURACY: 0.9114999771118164%\n",
      "STEP: 47 TRAIN LOSS: 0.02048584632575512 TRAIN ACCURACY: 0.9800000190734863%\n",
      "STEP: 47 TEST LOSS: 0.8435224890708923 TEST ACCURACY: 0.9117000102996826%\n",
      "STEP: 48 TRAIN LOSS: 0.005361867602914572 TRAIN ACCURACY: 1.0%\n",
      "STEP: 48 TEST LOSS: 0.7968127727508545 TEST ACCURACY: 0.9086999893188477%\n",
      "STEP: 49 TRAIN LOSS: 0.003833883674815297 TRAIN ACCURACY: 1.0%\n",
      "STEP: 49 TEST LOSS: 0.8084304928779602 TEST ACCURACY: 0.9108999967575073%\n"
     ]
    }
   ],
   "source": [
    "init            = tf.global_variables_initializer()\n",
    "steps           = 50\n",
    "batch_size      = 50\n",
    "n_samples = len(data.train.images)\n",
    "training_loss   = []\n",
    "training_acc    = []\n",
    "testing_loss   = []\n",
    "testing_acc    = []\n",
    "\n",
    "with tf.Session() as sess:\n",
    "    sess.run(init)    \n",
    "    \n",
    "    for step in range(steps):\n",
    "        for batch in range(int(n_samples/batch_size)):\n",
    "            x_batch = data.train.images[batch*batch_size : (1+batch)*batch_size]\n",
    "            y_batch = data.train.labels[batch*batch_size : (1+batch)*batch_size]\n",
    "            \n",
    "            x_batch = x_batch.reshape(-1, 28, 28, 1)\n",
    "        \n",
    "            sess.run(train, feed_dict={x: x_batch, y: y_batch})\n",
    "\n",
    "        ### TRAIN\n",
    "        # Calc training loss and accuracy... (note to use different variable names or python will try to reassign)\n",
    "        train_loss_val, train_acc = sess.run([loss, accuracy], feed_dict={x: x_batch, y: y_batch})\n",
    "        \n",
    "        training_loss.append(train_loss_val)\n",
    "        training_acc.append(train_acc)\n",
    "        \n",
    "        print(\"STEP: {} TRAIN LOSS: {} TRAIN ACCURACY: {}%\".format(step, train_loss_val, train_acc))\n",
    "        \n",
    "        ### TEST\n",
    "        # Set up test dataset\n",
    "        x_test = data.test.images.reshape(-1, 28, 28, 1)\n",
    "        y_test = data.test.labels\n",
    "        \n",
    "        # Calc training loss and accuracy... (note to use different variable names or python will try to reassign)\n",
    "        test_loss_val, test_acc = sess.run([loss, accuracy], feed_dict={x: x_test, y: y_test})\n",
    "        \n",
    "        testing_loss.append(test_loss_val)\n",
    "        testing_acc.append(test_acc)\n",
    "        \n",
    "        print(\"STEP: {} TEST LOSS: {} TEST ACCURACY: {}%\".format(step, test_loss_val, test_acc))"
   ]
  },
  {
   "cell_type": "code",
   "execution_count": 46,
   "metadata": {},
   "outputs": [
    {
     "data": {
      "text/plain": [
       "<matplotlib.legend.Legend at 0x1c2191afd0>"
      ]
     },
     "execution_count": 46,
     "metadata": {},
     "output_type": "execute_result"
    },
    {
     "data": {
      "image/png": "[encoded data removed]",
      "text/plain": [
       "<Figure size 1440x720 with 2 Axes>"
      ]
     },
     "metadata": {},
     "output_type": "display_data"
    }
   ],
   "source": [
    "f, (ax1, ax2) = plt.subplots(1, 2, figsize=(20,10))\n",
    "\n",
    "ax1.plot(range(steps), training_loss, 'b', label=\"Train Loss\")\n",
    "ax1.plot(range(steps), testing_loss, 'r', label=\"Test Loss\")\n",
    "ax1.set_title(\"Train/Test loss\")\n",
    "ax1.set_xlabel(\"Epochs\")\n",
    "ax1.set_ylabel(\"Loss\")\n",
    "ax1.legend()\n",
    "         \n",
    "ax2.plot(range(steps), training_acc, 'b', label=\"Train Accuracy\")\n",
    "ax2.plot(range(steps), testing_acc, 'r', label=\"Test Accuracy\")\n",
    "ax2.set_title(\"Train/Test Accuracy\")\n",
    "ax2.set_xlabel(\"Epochs\")\n",
    "ax2.set_ylabel(\"Accuracy\")\n",
    "ax2.legend()"
   ]
  },
  {
   "cell_type": "code",
   "execution_count": 49,
   "metadata": {},
   "outputs": [
    {
     "name": "stdout",
     "output_type": "stream",
     "text": [
      "Model saved in path: ./model.ckpt\n"
     ]
    }
   ],
   "source": [
    "saver = tf.train.Saver()\n",
    "\n",
    "with tf.Session() as sess:\n",
    "    sess.run(init)\n",
    "    save_path = saver.save(sess, \"./model.ckpt\")\n",
    "    print(\"Model saved in path: {}\".format(save_path))"
   ]
  },
  {
   "cell_type": "code",
   "execution_count": null,
   "metadata": {},
   "outputs": [],
   "source": []
  }
 ],
 "metadata": {
  "kernelspec": {
   "display_name": "Python 3",
   "language": "python",
   "name": "python3"
  },
  "language_info": {
   "codemirror_mode": {
    "name": "ipython",
    "version": 3
   },
   "file_extension": ".py",
   "mimetype": "text/x-python",
   "name": "python",
   "nbconvert_exporter": "python",
   "pygments_lexer": "ipython3",
   "version": "3.6.5"
  }
 },
 "nbformat": 4,
 "nbformat_minor": 2
}
