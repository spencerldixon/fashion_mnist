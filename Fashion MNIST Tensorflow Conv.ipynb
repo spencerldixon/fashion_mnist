{
 "cells": [
  {
   "cell_type": "code",
   "execution_count": 1,
   "metadata": {},
   "outputs": [
    {
     "name": "stderr",
     "output_type": "stream",
     "text": [
      "/Users/spencerdixon/anaconda3/lib/python3.6/site-packages/h5py/__init__.py:36: FutureWarning: Conversion of the second argument of issubdtype from `float` to `np.floating` is deprecated. In future, it will be treated as `np.float64 == np.dtype(float).type`.\n",
      "  from ._conv import register_converters as _register_converters\n"
     ]
    },
    {
     "name": "stdout",
     "output_type": "stream",
     "text": [
      "1.9.0\n"
     ]
    }
   ],
   "source": [
    "import numpy as np\n",
    "import tensorflow as tf\n",
    "import matplotlib.pyplot as plt\n",
    "from tensorflow.examples.tutorials.mnist import input_data\n",
    "\n",
    "%matplotlib inline\n",
    "\n",
    "print(tf.__version__)"
   ]
  },
  {
   "cell_type": "code",
   "execution_count": 2,
   "metadata": {},
   "outputs": [
    {
     "name": "stdout",
     "output_type": "stream",
     "text": [
      "WARNING:tensorflow:From <ipython-input-2-c16302e8c919>:1: read_data_sets (from tensorflow.contrib.learn.python.learn.datasets.mnist) is deprecated and will be removed in a future version.\n",
      "Instructions for updating:\n",
      "Please use alternatives such as official/mnist/dataset.py from tensorflow/models.\n",
      "WARNING:tensorflow:From /Users/spencerdixon/anaconda3/lib/python3.6/site-packages/tensorflow/contrib/learn/python/learn/datasets/mnist.py:260: maybe_download (from tensorflow.contrib.learn.python.learn.datasets.base) is deprecated and will be removed in a future version.\n",
      "Instructions for updating:\n",
      "Please write your own downloading logic.\n",
      "WARNING:tensorflow:From /Users/spencerdixon/anaconda3/lib/python3.6/site-packages/tensorflow/contrib/learn/python/learn/datasets/mnist.py:262: extract_images (from tensorflow.contrib.learn.python.learn.datasets.mnist) is deprecated and will be removed in a future version.\n",
      "Instructions for updating:\n",
      "Please use tf.data to implement this functionality.\n",
      "Extracting data/fashion/train-images-idx3-ubyte.gz\n",
      "WARNING:tensorflow:From /Users/spencerdixon/anaconda3/lib/python3.6/site-packages/tensorflow/contrib/learn/python/learn/datasets/mnist.py:267: extract_labels (from tensorflow.contrib.learn.python.learn.datasets.mnist) is deprecated and will be removed in a future version.\n",
      "Instructions for updating:\n",
      "Please use tf.data to implement this functionality.\n",
      "Extracting data/fashion/train-labels-idx1-ubyte.gz\n",
      "WARNING:tensorflow:From /Users/spencerdixon/anaconda3/lib/python3.6/site-packages/tensorflow/contrib/learn/python/learn/datasets/mnist.py:110: dense_to_one_hot (from tensorflow.contrib.learn.python.learn.datasets.mnist) is deprecated and will be removed in a future version.\n",
      "Instructions for updating:\n",
      "Please use tf.one_hot on tensors.\n",
      "Extracting data/fashion/t10k-images-idx3-ubyte.gz\n",
      "Extracting data/fashion/t10k-labels-idx1-ubyte.gz\n",
      "WARNING:tensorflow:From /Users/spencerdixon/anaconda3/lib/python3.6/site-packages/tensorflow/contrib/learn/python/learn/datasets/mnist.py:290: DataSet.__init__ (from tensorflow.contrib.learn.python.learn.datasets.mnist) is deprecated and will be removed in a future version.\n",
      "Instructions for updating:\n",
      "Please use alternatives such as official/mnist/dataset.py from tensorflow/models.\n"
     ]
    }
   ],
   "source": [
    "data = input_data.read_data_sets('data/fashion',one_hot=True)"
   ]
  },
  {
   "cell_type": "code",
   "execution_count": 3,
   "metadata": {},
   "outputs": [
    {
     "data": {
      "text/plain": [
       "array([0., 0., 0., 0., 1., 0., 0., 0., 0., 0.])"
      ]
     },
     "execution_count": 3,
     "metadata": {},
     "output_type": "execute_result"
    }
   ],
   "source": [
    "data.train.labels[0]"
   ]
  },
  {
   "cell_type": "markdown",
   "metadata": {},
   "source": [
    "# Classification Helper"
   ]
  },
  {
   "cell_type": "code",
   "execution_count": 4,
   "metadata": {},
   "outputs": [],
   "source": [
    "classification_dict = {\n",
    "    0: 'T-shirt/top',\n",
    "    1: 'Trouser',\n",
    "    2: 'Pullover',\n",
    "    3: 'Dress',\n",
    "    4: 'Coat',\n",
    "    5: 'Sandal',\n",
    "    6: 'Shirt',\n",
    "    7: 'Sneaker',\n",
    "    8: 'Bag',\n",
    "    9: 'Ankle boot'\n",
    "}"
   ]
  },
  {
   "cell_type": "markdown",
   "metadata": {},
   "source": [
    "# Plot Sample"
   ]
  },
  {
   "cell_type": "code",
   "execution_count": 5,
   "metadata": {},
   "outputs": [
    {
     "name": "stdout",
     "output_type": "stream",
     "text": [
      "This is a Coat\n"
     ]
    },
    {
     "data": {
      "image/png": "[encoded data removed]",
      "text/plain": [
       "<Figure size 432x288 with 1 Axes>"
      ]
     },
     "metadata": {},
     "output_type": "display_data"
    }
   ],
   "source": [
    "index = 0\n",
    "image = data.train.images[index].reshape(28,28)\n",
    "label = data.train.labels[index]\n",
    "\n",
    "plt.imshow(image)\n",
    "\n",
    "print(\"This is a {}\".format(classification_dict[label.argmax()]))"
   ]
  },
  {
   "cell_type": "markdown",
   "metadata": {},
   "source": [
    "# Formatting Data"
   ]
  },
  {
   "cell_type": "code",
   "execution_count": 6,
   "metadata": {},
   "outputs": [
    {
     "name": "stdout",
     "output_type": "stream",
     "text": [
      "Train shape:  (55000, 28, 28, 1)\n",
      "Test shape:  (10000, 28, 28, 1)\n",
      "Train labels:  (55000, 10)\n",
      "Test labels:  (10000, 10)\n"
     ]
    }
   ],
   "source": [
    "x_train = data.train.images.reshape(-1, 28, 28, 1)\n",
    "x_test  = data.test.images.reshape(-1,28,28,1)\n",
    "\n",
    "y_train = data.train.labels\n",
    "y_test  = data.test.labels\n",
    "\n",
    "print('Train shape: ', x_train.shape)\n",
    "print('Test shape: ', x_test.shape)\n",
    "\n",
    "print('Train labels: ', y_train.shape)\n",
    "print('Test labels: ', y_test.shape)"
   ]
  },
  {
   "cell_type": "markdown",
   "metadata": {},
   "source": [
    "# Model / Forward Prop\n",
    "\n",
    "- Conv1\n",
    "- MaxPool1\n",
    "- Conv2\n",
    "- MaxPool2\n",
    "- Flatten\n",
    "- Dense1\n",
    "- DenseOut"
   ]
  },
  {
   "cell_type": "code",
   "execution_count": 7,
   "metadata": {},
   "outputs": [],
   "source": [
    "# This line ensures that the graph is reset every time you run this cell\n",
    "tf.reset_default_graph()\n",
    "\n",
    "x = tf.placeholder(tf.float32, [None, 28,28,1]) # Taken from input shape, this represents our image input\n",
    "y = tf.placeholder(tf.float32, [None, 10]) # Taken from label shape, this represents our one hot encoded label\n",
    "\n",
    "weights = {\n",
    "    'conv1': tf.get_variable('W0', shape=(3,3,1,32), initializer=tf.contrib.layers.xavier_initializer()), \n",
    "    'conv2': tf.get_variable('W1', shape=(3,3,32,64), initializer=tf.contrib.layers.xavier_initializer()), \n",
    "    'conv3': tf.get_variable('W2', shape=(3,3,64,128), initializer=tf.contrib.layers.xavier_initializer()), \n",
    "    'dense1': tf.get_variable('W3', shape=(4*4*128,128), initializer=tf.contrib.layers.xavier_initializer()), \n",
    "    'dense2': tf.get_variable('W4', shape=(128,10), initializer=tf.contrib.layers.xavier_initializer()), \n",
    "}\n",
    "\n",
    "biases = {\n",
    "    'conv1': tf.get_variable('B0', shape=(32), initializer=tf.contrib.layers.xavier_initializer()),\n",
    "    'conv2': tf.get_variable('B1', shape=(64), initializer=tf.contrib.layers.xavier_initializer()),\n",
    "    'conv3': tf.get_variable('B2', shape=(128), initializer=tf.contrib.layers.xavier_initializer()),\n",
    "    'dense1': tf.get_variable('B3', shape=(128), initializer=tf.contrib.layers.xavier_initializer()),\n",
    "    'dense2': tf.get_variable('B4', shape=(10), initializer=tf.contrib.layers.xavier_initializer()),\n",
    "}\n",
    "\n",
    "def conv_layer(x, W, b):\n",
    "    # Convolves x with W, adds b, and activates\n",
    "    conv = tf.nn.conv2d(input=x, filter=W, strides=[1, 1, 1, 1], padding=\"SAME\")\n",
    "    conv = tf.nn.bias_add(conv, b)\n",
    "    return tf.nn.relu(conv)\n",
    "\n",
    "def max_pooling(x):\n",
    "    # Runs max pooling on x, reducing its size by half\n",
    "    return tf.layers.max_pooling2d(x, pool_size=2, strides=2, padding=\"SAME\")\n",
    "\n",
    "def dense_layer(x, W, b):\n",
    "    dense = tf.add(tf.matmul(x, W), b)\n",
    "    return tf.nn.relu(dense)\n",
    "\n",
    "def forward_pass(x, weights, biases):     \n",
    "    c1 = conv_layer(x, weights['conv1'], biases['conv1'])\n",
    "    c1 = max_pooling(c1) # Chooses the max value from a 2*2 matrix window and outputs a 14*14 matrix (28x28/2 = 14x14)\n",
    "    \n",
    "    print(tf.shape(c1))\n",
    "    \n",
    "    c2 = conv_layer(c1, weights['conv2'], biases['conv2'])\n",
    "    c2 = max_pooling(c2) # Reduces image again by half (14x14/2 = 7x7)\n",
    "    \n",
    "    print(tf.shape(c2))\n",
    "                                \n",
    "    c3 = conv_layer(c2, weights['conv3'], biases['conv3'])\n",
    "    c3 = max_pooling(c3) # Reduces image again by half (tf rounds up with padding same, so 7/2 = ceil(3.5) = 4) (7x7/2 = 4x4)\n",
    "            \n",
    "    flattened = tf.reshape(c3, [-1, 4*4*128]) # 2048\n",
    "    \n",
    "    dense1 = dense_layer(flattened, weights['dense1'], biases['dense1'])\n",
    "\n",
    "    # Dense without activation\n",
    "    predictions = tf.add(tf.matmul(dense1, weights['dense2']), biases['dense2'])\n",
    "    \n",
    "    return predictions"
   ]
  },
  {
   "cell_type": "markdown",
   "metadata": {},
   "source": [
    "## Backprop\n",
    "\n",
    "Now that we've defined our forward pass, there are 4 elements in our training...\n",
    "\n",
    "1. Get predictions by doing a forward pass\n",
    "2. Define loss (difference between labels and predictions)\n",
    "3. Define optimizer\n",
    "4. Use optimizer to minimize loss"
   ]
  },
  {
   "cell_type": "code",
   "execution_count": 8,
   "metadata": {},
   "outputs": [
    {
     "name": "stdout",
     "output_type": "stream",
     "text": [
      "Tensor(\"Shape:0\", shape=(4,), dtype=int32)\n",
      "Tensor(\"Shape_1:0\", shape=(4,), dtype=int32)\n",
      "WARNING:tensorflow:From <ipython-input-8-7d54701be6b4>:5: softmax_cross_entropy_with_logits (from tensorflow.python.ops.nn_ops) is deprecated and will be removed in a future version.\n",
      "Instructions for updating:\n",
      "\n",
      "Future major versions of TensorFlow will allow gradients to flow\n",
      "into the labels input on backprop by default.\n",
      "\n",
      "See @{tf.nn.softmax_cross_entropy_with_logits_v2}.\n",
      "\n"
     ]
    }
   ],
   "source": [
    "# Do a forward pass of our training data\n",
    "y_predictions = forward_pass(x, weights, biases) # x = placeholder for image\n",
    "\n",
    "# Define our loss (difference between labels and predictions)\n",
    "loss = tf.reduce_mean(tf.nn.softmax_cross_entropy_with_logits(logits=y_predictions, labels=y)) # y = placeholder for true labels\n",
    "\n",
    "# Define how we're going to optimise our loss\n",
    "optimizer = tf.train.AdamOptimizer(learning_rate=0.001)\n",
    "\n",
    "# Define our single pass of forward and back prop (user optimiser to minimise loss)\n",
    "train = optimizer.minimize(loss)"
   ]
  },
  {
   "cell_type": "code",
   "execution_count": 9,
   "metadata": {},
   "outputs": [],
   "source": [
    "# Make some nodes that tell us if we got it right when computed\n",
    "correct_prediction = tf.equal(tf.argmax(y_predictions, 1), tf.argmax(y, 1))\n",
    "\n",
    "# Node for accuracy across all examples\n",
    "accuracy = tf.reduce_mean(tf.cast(correct_prediction, tf.float32))"
   ]
  },
  {
   "cell_type": "code",
   "execution_count": 10,
   "metadata": {},
   "outputs": [
    {
     "name": "stdout",
     "output_type": "stream",
     "text": [
      "STEP: 0 LOSS: 0.3303595781326294 ACCURACY: 0.8799999952316284%\n",
      "STEP: 1 LOSS: 0.27908381819725037 ACCURACY: 0.9399999976158142%\n",
      "STEP: 2 LOSS: 0.28541508316993713 ACCURACY: 0.9399999976158142%\n",
      "STEP: 3 LOSS: 0.2491491734981537 ACCURACY: 0.9599999785423279%\n",
      "STEP: 4 LOSS: 0.2144286036491394 ACCURACY: 0.9399999976158142%\n",
      "STEP: 5 LOSS: 0.1816362887620926 ACCURACY: 0.9200000166893005%\n",
      "STEP: 6 LOSS: 0.12107187509536743 ACCURACY: 0.9599999785423279%\n",
      "STEP: 7 LOSS: 0.09989696741104126 ACCURACY: 0.9399999976158142%\n",
      "STEP: 8 LOSS: 0.08439107984304428 ACCURACY: 0.9599999785423279%\n",
      "STEP: 9 LOSS: 0.06550471484661102 ACCURACY: 1.0%\n",
      "STEP: 10 LOSS: 0.06331762671470642 ACCURACY: 1.0%\n",
      "STEP: 11 LOSS: 0.04345819354057312 ACCURACY: 1.0%\n",
      "STEP: 12 LOSS: 0.03985005244612694 ACCURACY: 0.9800000190734863%\n",
      "STEP: 13 LOSS: 0.08216710388660431 ACCURACY: 0.9399999976158142%\n",
      "STEP: 14 LOSS: 0.04649316146969795 ACCURACY: 1.0%\n",
      "STEP: 15 LOSS: 0.04303900897502899 ACCURACY: 0.9800000190734863%\n",
      "STEP: 16 LOSS: 0.04002591595053673 ACCURACY: 0.9800000190734863%\n",
      "STEP: 17 LOSS: 0.07763121277093887 ACCURACY: 0.9800000190734863%\n",
      "STEP: 18 LOSS: 0.017502231523394585 ACCURACY: 1.0%\n",
      "STEP: 19 LOSS: 0.010745379142463207 ACCURACY: 1.0%\n",
      "STEP: 20 LOSS: 0.053240060806274414 ACCURACY: 0.9800000190734863%\n",
      "STEP: 21 LOSS: 0.10971856862306595 ACCURACY: 0.9800000190734863%\n",
      "STEP: 22 LOSS: 0.0047016628086566925 ACCURACY: 1.0%\n",
      "STEP: 23 LOSS: 0.003374106250703335 ACCURACY: 1.0%\n",
      "STEP: 24 LOSS: 0.026920035481452942 ACCURACY: 0.9800000190734863%\n",
      "STEP: 25 LOSS: 0.003717551939189434 ACCURACY: 1.0%\n",
      "STEP: 26 LOSS: 0.04702650383114815 ACCURACY: 0.9800000190734863%\n",
      "STEP: 27 LOSS: 0.003681097412481904 ACCURACY: 1.0%\n",
      "STEP: 28 LOSS: 0.005758313927799463 ACCURACY: 1.0%\n",
      "STEP: 29 LOSS: 0.0016465106746181846 ACCURACY: 1.0%\n",
      "STEP: 30 LOSS: 0.001312194624915719 ACCURACY: 1.0%\n",
      "STEP: 31 LOSS: 0.004789605271071196 ACCURACY: 1.0%\n",
      "STEP: 32 LOSS: 0.007145511452108622 ACCURACY: 1.0%\n",
      "STEP: 33 LOSS: 0.006099127698689699 ACCURACY: 1.0%\n",
      "STEP: 34 LOSS: 0.004132222384214401 ACCURACY: 1.0%\n",
      "STEP: 35 LOSS: 0.025054266676306725 ACCURACY: 0.9800000190734863%\n",
      "STEP: 36 LOSS: 0.029312344267964363 ACCURACY: 0.9800000190734863%\n",
      "STEP: 37 LOSS: 0.022863244637846947 ACCURACY: 0.9800000190734863%\n",
      "STEP: 38 LOSS: 0.0012759673409163952 ACCURACY: 1.0%\n",
      "STEP: 39 LOSS: 0.004262465052306652 ACCURACY: 1.0%\n",
      "STEP: 40 LOSS: 0.005845346953719854 ACCURACY: 1.0%\n",
      "STEP: 41 LOSS: 0.0025134196039289236 ACCURACY: 1.0%\n",
      "STEP: 42 LOSS: 7.814366108505055e-05 ACCURACY: 1.0%\n",
      "STEP: 43 LOSS: 0.007899591699242592 ACCURACY: 1.0%\n",
      "STEP: 44 LOSS: 0.013148519210517406 ACCURACY: 1.0%\n",
      "STEP: 45 LOSS: 0.004585812799632549 ACCURACY: 1.0%\n",
      "STEP: 46 LOSS: 0.002335324650630355 ACCURACY: 1.0%\n",
      "STEP: 47 LOSS: 0.013975230045616627 ACCURACY: 1.0%\n",
      "STEP: 48 LOSS: 0.0022309941705316305 ACCURACY: 1.0%\n",
      "STEP: 49 LOSS: 0.0013730351347476244 ACCURACY: 1.0%\n"
     ]
    }
   ],
   "source": [
    "init          = tf.global_variables_initializer()\n",
    "steps         = 50\n",
    "batch_size    = 50\n",
    "n_samples     = len(data.train.images)\n",
    "training_loss = []\n",
    "training_acc  = []\n",
    "\n",
    "with tf.Session() as sess:\n",
    "    sess.run(init)    \n",
    "    \n",
    "    for step in range(steps):\n",
    "        for batch in range(int(n_samples/batch_size)):\n",
    "            x_batch = data.train.images[batch*batch_size : (1+batch)*batch_size]\n",
    "            y_batch = data.train.labels[batch*batch_size : (1+batch)*batch_size]\n",
    "            \n",
    "            x_batch = x_batch.reshape(-1, 28, 28, 1)\n",
    "        \n",
    "            sess.run(train, feed_dict={x: x_batch, y: y_batch})\n",
    "            #loss_val, acc = sess.run([loss, accuracy], feed_dict={x: x_batch, y: y_batch})\n",
    "\n",
    "        # Calc loss and accuracy... (note to use different variable names or python will try to reassign)\n",
    "        loss_val, acc = sess.run([loss, accuracy], feed_dict={x: x_batch, y: y_batch})\n",
    "        \n",
    "        training_loss.append(loss_val)\n",
    "        training_acc.append(acc)\n",
    "        \n",
    "        print(\"STEP: {} LOSS: {} ACCURACY: {}%\".format(step, loss_val, acc))"
   ]
  },
  {
   "cell_type": "code",
   "execution_count": 34,
   "metadata": {},
   "outputs": [
    {
     "data": {
      "text/plain": [
       "Text(0,0.5,'Accuracy')"
      ]
     },
     "execution_count": 34,
     "metadata": {},
     "output_type": "execute_result"
    },
    {
     "data": {
      "image/png": "[encoded data removed]",
      "text/plain": [
       "<Figure size 1440x720 with 2 Axes>"
      ]
     },
     "metadata": {},
     "output_type": "display_data"
    }
   ],
   "source": [
    "f, (ax1, ax2) = plt.subplots(1, 2, figsize=(20,10))\n",
    "\n",
    "ax1.plot(range(steps), training_loss)\n",
    "ax1.set_title(\"Training loss\")\n",
    "ax1.set_xlabel(\"Epochs\")\n",
    "ax1.set_ylabel(\"Loss\")\n",
    "         \n",
    "ax2.plot(range(steps), training_acc)\n",
    "ax2.set_title(\"Training accuracy\")\n",
    "ax2.set_xlabel(\"Epochs\")\n",
    "ax2.set_ylabel(\"Accuracy\")"
   ]
  },
  {
   "cell_type": "code",
   "execution_count": null,
   "metadata": {},
   "outputs": [],
   "source": []
  }
 ],
 "metadata": {
  "kernelspec": {
   "display_name": "Python 3",
   "language": "python",
   "name": "python3"
  },
  "language_info": {
   "codemirror_mode": {
    "name": "ipython",
    "version": 3
   },
   "file_extension": ".py",
   "mimetype": "text/x-python",
   "name": "python",
   "nbconvert_exporter": "python",
   "pygments_lexer": "ipython3",
   "version": "3.6.5"
  }
 },
 "nbformat": 4,
 "nbformat_minor": 2
}
